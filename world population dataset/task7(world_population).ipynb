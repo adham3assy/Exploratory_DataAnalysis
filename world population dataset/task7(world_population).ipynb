{
 "cells": [
  {
   "cell_type": "code",
   "execution_count": 2,
   "metadata": {},
   "outputs": [
    {
     "name": "stdout",
     "output_type": "stream",
     "text": [
      "Requirement already satisfied: openpyxl in c:\\users\\pccv\\appdata\\local\\packages\\pythonsoftwarefoundation.python.3.11_qbz5n2kfra8p0\\localcache\\local-packages\\python311\\site-packages (3.1.5)\n",
      "Requirement already satisfied: et-xmlfile in c:\\users\\pccv\\appdata\\local\\packages\\pythonsoftwarefoundation.python.3.11_qbz5n2kfra8p0\\localcache\\local-packages\\python311\\site-packages (from openpyxl) (2.0.0)\n",
      "Note: you may need to restart the kernel to use updated packages.\n"
     ]
    },
    {
     "name": "stderr",
     "output_type": "stream",
     "text": [
      "\n",
      "[notice] A new release of pip is available: 24.0 -> 24.3.1\n",
      "[notice] To update, run: C:\\Users\\PCCV\\AppData\\Local\\Microsoft\\WindowsApps\\PythonSoftwareFoundation.Python.3.11_qbz5n2kfra8p0\\python.exe -m pip install --upgrade pip\n"
     ]
    }
   ],
   "source": [
    "import pandas as pd \n",
    "%pip install openpyxl"
   ]
  },
  {
   "cell_type": "code",
   "execution_count": 46,
   "metadata": {},
   "outputs": [],
   "source": [
    "import matplotlib.pyplot as plt\n",
    "import numpy as np"
   ]
  },
  {
   "cell_type": "code",
   "execution_count": 4,
   "metadata": {},
   "outputs": [
    {
     "data": {
      "text/html": [
       "<div>\n",
       "<style scoped>\n",
       "    .dataframe tbody tr th:only-of-type {\n",
       "        vertical-align: middle;\n",
       "    }\n",
       "\n",
       "    .dataframe tbody tr th {\n",
       "        vertical-align: top;\n",
       "    }\n",
       "\n",
       "    .dataframe thead th {\n",
       "        text-align: right;\n",
       "    }\n",
       "</style>\n",
       "<table border=\"1\" class=\"dataframe\">\n",
       "  <thead>\n",
       "    <tr style=\"text-align: right;\">\n",
       "      <th></th>\n",
       "      <th>country</th>\n",
       "      <th>1800</th>\n",
       "      <th>1801</th>\n",
       "      <th>1802</th>\n",
       "      <th>1803</th>\n",
       "      <th>1804</th>\n",
       "      <th>1805</th>\n",
       "      <th>1806</th>\n",
       "      <th>1807</th>\n",
       "      <th>1808</th>\n",
       "      <th>...</th>\n",
       "      <th>2091</th>\n",
       "      <th>2092</th>\n",
       "      <th>2093</th>\n",
       "      <th>2094</th>\n",
       "      <th>2095</th>\n",
       "      <th>2096</th>\n",
       "      <th>2097</th>\n",
       "      <th>2098</th>\n",
       "      <th>2099</th>\n",
       "      <th>2100</th>\n",
       "    </tr>\n",
       "  </thead>\n",
       "  <tbody>\n",
       "    <tr>\n",
       "      <th>0</th>\n",
       "      <td>Afghanistan</td>\n",
       "      <td>3.28M</td>\n",
       "      <td>3.28M</td>\n",
       "      <td>3.28M</td>\n",
       "      <td>3.28M</td>\n",
       "      <td>3.28M</td>\n",
       "      <td>3.28M</td>\n",
       "      <td>3.28M</td>\n",
       "      <td>3.28M</td>\n",
       "      <td>3.28M</td>\n",
       "      <td>...</td>\n",
       "      <td>76.6M</td>\n",
       "      <td>76.4M</td>\n",
       "      <td>76.3M</td>\n",
       "      <td>76.1M</td>\n",
       "      <td>76M</td>\n",
       "      <td>75.8M</td>\n",
       "      <td>75.6M</td>\n",
       "      <td>75.4M</td>\n",
       "      <td>75.2M</td>\n",
       "      <td>74.9M</td>\n",
       "    </tr>\n",
       "    <tr>\n",
       "      <th>1</th>\n",
       "      <td>Angola</td>\n",
       "      <td>1.57M</td>\n",
       "      <td>1.57M</td>\n",
       "      <td>1.57M</td>\n",
       "      <td>1.57M</td>\n",
       "      <td>1.57M</td>\n",
       "      <td>1.57M</td>\n",
       "      <td>1.57M</td>\n",
       "      <td>1.57M</td>\n",
       "      <td>1.57M</td>\n",
       "      <td>...</td>\n",
       "      <td>168M</td>\n",
       "      <td>170M</td>\n",
       "      <td>172M</td>\n",
       "      <td>175M</td>\n",
       "      <td>177M</td>\n",
       "      <td>179M</td>\n",
       "      <td>182M</td>\n",
       "      <td>184M</td>\n",
       "      <td>186M</td>\n",
       "      <td>188M</td>\n",
       "    </tr>\n",
       "    <tr>\n",
       "      <th>2</th>\n",
       "      <td>Albania</td>\n",
       "      <td>400k</td>\n",
       "      <td>402k</td>\n",
       "      <td>404k</td>\n",
       "      <td>405k</td>\n",
       "      <td>407k</td>\n",
       "      <td>409k</td>\n",
       "      <td>411k</td>\n",
       "      <td>413k</td>\n",
       "      <td>414k</td>\n",
       "      <td>...</td>\n",
       "      <td>1.33M</td>\n",
       "      <td>1.3M</td>\n",
       "      <td>1.27M</td>\n",
       "      <td>1.25M</td>\n",
       "      <td>1.22M</td>\n",
       "      <td>1.19M</td>\n",
       "      <td>1.17M</td>\n",
       "      <td>1.14M</td>\n",
       "      <td>1.11M</td>\n",
       "      <td>1.09M</td>\n",
       "    </tr>\n",
       "    <tr>\n",
       "      <th>3</th>\n",
       "      <td>Andorra</td>\n",
       "      <td>2650</td>\n",
       "      <td>2650</td>\n",
       "      <td>2650</td>\n",
       "      <td>2650</td>\n",
       "      <td>2650</td>\n",
       "      <td>2650</td>\n",
       "      <td>2650</td>\n",
       "      <td>2650</td>\n",
       "      <td>2650</td>\n",
       "      <td>...</td>\n",
       "      <td>63k</td>\n",
       "      <td>62.9k</td>\n",
       "      <td>62.9k</td>\n",
       "      <td>62.8k</td>\n",
       "      <td>62.7k</td>\n",
       "      <td>62.7k</td>\n",
       "      <td>62.6k</td>\n",
       "      <td>62.5k</td>\n",
       "      <td>62.5k</td>\n",
       "      <td>62.4k</td>\n",
       "    </tr>\n",
       "    <tr>\n",
       "      <th>4</th>\n",
       "      <td>United Arab Emirates</td>\n",
       "      <td>40.2k</td>\n",
       "      <td>40.2k</td>\n",
       "      <td>40.2k</td>\n",
       "      <td>40.2k</td>\n",
       "      <td>40.2k</td>\n",
       "      <td>40.2k</td>\n",
       "      <td>40.2k</td>\n",
       "      <td>40.2k</td>\n",
       "      <td>40.2k</td>\n",
       "      <td>...</td>\n",
       "      <td>12.3M</td>\n",
       "      <td>12.4M</td>\n",
       "      <td>12.5M</td>\n",
       "      <td>12.5M</td>\n",
       "      <td>12.6M</td>\n",
       "      <td>12.7M</td>\n",
       "      <td>12.7M</td>\n",
       "      <td>12.8M</td>\n",
       "      <td>12.8M</td>\n",
       "      <td>12.9M</td>\n",
       "    </tr>\n",
       "    <tr>\n",
       "      <th>...</th>\n",
       "      <td>...</td>\n",
       "      <td>...</td>\n",
       "      <td>...</td>\n",
       "      <td>...</td>\n",
       "      <td>...</td>\n",
       "      <td>...</td>\n",
       "      <td>...</td>\n",
       "      <td>...</td>\n",
       "      <td>...</td>\n",
       "      <td>...</td>\n",
       "      <td>...</td>\n",
       "      <td>...</td>\n",
       "      <td>...</td>\n",
       "      <td>...</td>\n",
       "      <td>...</td>\n",
       "      <td>...</td>\n",
       "      <td>...</td>\n",
       "      <td>...</td>\n",
       "      <td>...</td>\n",
       "      <td>...</td>\n",
       "      <td>...</td>\n",
       "    </tr>\n",
       "    <tr>\n",
       "      <th>192</th>\n",
       "      <td>Samoa</td>\n",
       "      <td>47.3k</td>\n",
       "      <td>47.3k</td>\n",
       "      <td>47.3k</td>\n",
       "      <td>47.3k</td>\n",
       "      <td>47.3k</td>\n",
       "      <td>47.3k</td>\n",
       "      <td>47.3k</td>\n",
       "      <td>47.2k</td>\n",
       "      <td>47.2k</td>\n",
       "      <td>...</td>\n",
       "      <td>315k</td>\n",
       "      <td>314k</td>\n",
       "      <td>314k</td>\n",
       "      <td>314k</td>\n",
       "      <td>313k</td>\n",
       "      <td>313k</td>\n",
       "      <td>312k</td>\n",
       "      <td>312k</td>\n",
       "      <td>311k</td>\n",
       "      <td>310k</td>\n",
       "    </tr>\n",
       "    <tr>\n",
       "      <th>193</th>\n",
       "      <td>Yemen</td>\n",
       "      <td>2.59M</td>\n",
       "      <td>2.59M</td>\n",
       "      <td>2.59M</td>\n",
       "      <td>2.59M</td>\n",
       "      <td>2.59M</td>\n",
       "      <td>2.59M</td>\n",
       "      <td>2.59M</td>\n",
       "      <td>2.59M</td>\n",
       "      <td>2.59M</td>\n",
       "      <td>...</td>\n",
       "      <td>54.5M</td>\n",
       "      <td>54.4M</td>\n",
       "      <td>54.3M</td>\n",
       "      <td>54.1M</td>\n",
       "      <td>54M</td>\n",
       "      <td>53.8M</td>\n",
       "      <td>53.7M</td>\n",
       "      <td>53.5M</td>\n",
       "      <td>53.4M</td>\n",
       "      <td>53.2M</td>\n",
       "    </tr>\n",
       "    <tr>\n",
       "      <th>194</th>\n",
       "      <td>South Africa</td>\n",
       "      <td>1.45M</td>\n",
       "      <td>1.45M</td>\n",
       "      <td>1.46M</td>\n",
       "      <td>1.46M</td>\n",
       "      <td>1.47M</td>\n",
       "      <td>1.47M</td>\n",
       "      <td>1.48M</td>\n",
       "      <td>1.49M</td>\n",
       "      <td>1.49M</td>\n",
       "      <td>...</td>\n",
       "      <td>79.8M</td>\n",
       "      <td>79.8M</td>\n",
       "      <td>79.7M</td>\n",
       "      <td>79.7M</td>\n",
       "      <td>79.6M</td>\n",
       "      <td>79.5M</td>\n",
       "      <td>79.5M</td>\n",
       "      <td>79.4M</td>\n",
       "      <td>79.3M</td>\n",
       "      <td>79.2M</td>\n",
       "    </tr>\n",
       "    <tr>\n",
       "      <th>195</th>\n",
       "      <td>Zambia</td>\n",
       "      <td>747k</td>\n",
       "      <td>758k</td>\n",
       "      <td>770k</td>\n",
       "      <td>782k</td>\n",
       "      <td>794k</td>\n",
       "      <td>806k</td>\n",
       "      <td>818k</td>\n",
       "      <td>831k</td>\n",
       "      <td>843k</td>\n",
       "      <td>...</td>\n",
       "      <td>74.4M</td>\n",
       "      <td>75.2M</td>\n",
       "      <td>76M</td>\n",
       "      <td>76.8M</td>\n",
       "      <td>77.6M</td>\n",
       "      <td>78.4M</td>\n",
       "      <td>79.2M</td>\n",
       "      <td>80M</td>\n",
       "      <td>80.8M</td>\n",
       "      <td>81.5M</td>\n",
       "    </tr>\n",
       "    <tr>\n",
       "      <th>196</th>\n",
       "      <td>Zimbabwe</td>\n",
       "      <td>1.09M</td>\n",
       "      <td>1.09M</td>\n",
       "      <td>1.09M</td>\n",
       "      <td>1.09M</td>\n",
       "      <td>1.09M</td>\n",
       "      <td>1.09M</td>\n",
       "      <td>1.09M</td>\n",
       "      <td>1.09M</td>\n",
       "      <td>1.09M</td>\n",
       "      <td>...</td>\n",
       "      <td>30.8M</td>\n",
       "      <td>30.9M</td>\n",
       "      <td>30.9M</td>\n",
       "      <td>30.9M</td>\n",
       "      <td>30.9M</td>\n",
       "      <td>30.9M</td>\n",
       "      <td>31M</td>\n",
       "      <td>31M</td>\n",
       "      <td>31M</td>\n",
       "      <td>31M</td>\n",
       "    </tr>\n",
       "  </tbody>\n",
       "</table>\n",
       "<p>197 rows × 302 columns</p>\n",
       "</div>"
      ],
      "text/plain": [
       "                  country   1800   1801   1802   1803   1804   1805   1806  \\\n",
       "0             Afghanistan  3.28M  3.28M  3.28M  3.28M  3.28M  3.28M  3.28M   \n",
       "1                  Angola  1.57M  1.57M  1.57M  1.57M  1.57M  1.57M  1.57M   \n",
       "2                 Albania   400k   402k   404k   405k   407k   409k   411k   \n",
       "3                 Andorra   2650   2650   2650   2650   2650   2650   2650   \n",
       "4    United Arab Emirates  40.2k  40.2k  40.2k  40.2k  40.2k  40.2k  40.2k   \n",
       "..                    ...    ...    ...    ...    ...    ...    ...    ...   \n",
       "192                 Samoa  47.3k  47.3k  47.3k  47.3k  47.3k  47.3k  47.3k   \n",
       "193                 Yemen  2.59M  2.59M  2.59M  2.59M  2.59M  2.59M  2.59M   \n",
       "194          South Africa  1.45M  1.45M  1.46M  1.46M  1.47M  1.47M  1.48M   \n",
       "195                Zambia   747k   758k   770k   782k   794k   806k   818k   \n",
       "196              Zimbabwe  1.09M  1.09M  1.09M  1.09M  1.09M  1.09M  1.09M   \n",
       "\n",
       "      1807   1808  ...   2091   2092   2093   2094   2095   2096   2097  \\\n",
       "0    3.28M  3.28M  ...  76.6M  76.4M  76.3M  76.1M    76M  75.8M  75.6M   \n",
       "1    1.57M  1.57M  ...   168M   170M   172M   175M   177M   179M   182M   \n",
       "2     413k   414k  ...  1.33M   1.3M  1.27M  1.25M  1.22M  1.19M  1.17M   \n",
       "3     2650   2650  ...    63k  62.9k  62.9k  62.8k  62.7k  62.7k  62.6k   \n",
       "4    40.2k  40.2k  ...  12.3M  12.4M  12.5M  12.5M  12.6M  12.7M  12.7M   \n",
       "..     ...    ...  ...    ...    ...    ...    ...    ...    ...    ...   \n",
       "192  47.2k  47.2k  ...   315k   314k   314k   314k   313k   313k   312k   \n",
       "193  2.59M  2.59M  ...  54.5M  54.4M  54.3M  54.1M    54M  53.8M  53.7M   \n",
       "194  1.49M  1.49M  ...  79.8M  79.8M  79.7M  79.7M  79.6M  79.5M  79.5M   \n",
       "195   831k   843k  ...  74.4M  75.2M    76M  76.8M  77.6M  78.4M  79.2M   \n",
       "196  1.09M  1.09M  ...  30.8M  30.9M  30.9M  30.9M  30.9M  30.9M    31M   \n",
       "\n",
       "      2098   2099   2100  \n",
       "0    75.4M  75.2M  74.9M  \n",
       "1     184M   186M   188M  \n",
       "2    1.14M  1.11M  1.09M  \n",
       "3    62.5k  62.5k  62.4k  \n",
       "4    12.8M  12.8M  12.9M  \n",
       "..     ...    ...    ...  \n",
       "192   312k   311k   310k  \n",
       "193  53.5M  53.4M  53.2M  \n",
       "194  79.4M  79.3M  79.2M  \n",
       "195    80M  80.8M  81.5M  \n",
       "196    31M    31M    31M  \n",
       "\n",
       "[197 rows x 302 columns]"
      ]
     },
     "execution_count": 4,
     "metadata": {},
     "output_type": "execute_result"
    }
   ],
   "source": [
    "df = pd.read_excel('population_total.xlsx')\n",
    "df"
   ]
  },
  {
   "cell_type": "code",
   "execution_count": 5,
   "metadata": {},
   "outputs": [
    {
     "data": {
      "text/plain": [
       "np.False_"
      ]
     },
     "execution_count": 5,
     "metadata": {},
     "output_type": "execute_result"
    }
   ],
   "source": [
    "df.isnull().values.any()"
   ]
  },
  {
   "cell_type": "code",
   "execution_count": 6,
   "metadata": {},
   "outputs": [
    {
     "data": {
      "text/plain": [
       "np.False_"
      ]
     },
     "execution_count": 6,
     "metadata": {},
     "output_type": "execute_result"
    }
   ],
   "source": [
    "df.duplicated().values.any()"
   ]
  },
  {
   "cell_type": "code",
   "execution_count": 7,
   "metadata": {},
   "outputs": [
    {
     "data": {
      "text/html": [
       "<div>\n",
       "<style scoped>\n",
       "    .dataframe tbody tr th:only-of-type {\n",
       "        vertical-align: middle;\n",
       "    }\n",
       "\n",
       "    .dataframe tbody tr th {\n",
       "        vertical-align: top;\n",
       "    }\n",
       "\n",
       "    .dataframe thead th {\n",
       "        text-align: right;\n",
       "    }\n",
       "</style>\n",
       "<table border=\"1\" class=\"dataframe\">\n",
       "  <thead>\n",
       "    <tr style=\"text-align: right;\">\n",
       "      <th></th>\n",
       "      <th>country</th>\n",
       "      <th>year</th>\n",
       "      <th>population</th>\n",
       "    </tr>\n",
       "  </thead>\n",
       "  <tbody>\n",
       "    <tr>\n",
       "      <th>0</th>\n",
       "      <td>Afghanistan</td>\n",
       "      <td>1800</td>\n",
       "      <td>3.28M</td>\n",
       "    </tr>\n",
       "    <tr>\n",
       "      <th>1</th>\n",
       "      <td>Angola</td>\n",
       "      <td>1800</td>\n",
       "      <td>1.57M</td>\n",
       "    </tr>\n",
       "    <tr>\n",
       "      <th>2</th>\n",
       "      <td>Albania</td>\n",
       "      <td>1800</td>\n",
       "      <td>400k</td>\n",
       "    </tr>\n",
       "    <tr>\n",
       "      <th>3</th>\n",
       "      <td>Andorra</td>\n",
       "      <td>1800</td>\n",
       "      <td>2650</td>\n",
       "    </tr>\n",
       "    <tr>\n",
       "      <th>4</th>\n",
       "      <td>United Arab Emirates</td>\n",
       "      <td>1800</td>\n",
       "      <td>40.2k</td>\n",
       "    </tr>\n",
       "    <tr>\n",
       "      <th>...</th>\n",
       "      <td>...</td>\n",
       "      <td>...</td>\n",
       "      <td>...</td>\n",
       "    </tr>\n",
       "    <tr>\n",
       "      <th>59292</th>\n",
       "      <td>Samoa</td>\n",
       "      <td>2100</td>\n",
       "      <td>310k</td>\n",
       "    </tr>\n",
       "    <tr>\n",
       "      <th>59293</th>\n",
       "      <td>Yemen</td>\n",
       "      <td>2100</td>\n",
       "      <td>53.2M</td>\n",
       "    </tr>\n",
       "    <tr>\n",
       "      <th>59294</th>\n",
       "      <td>South Africa</td>\n",
       "      <td>2100</td>\n",
       "      <td>79.2M</td>\n",
       "    </tr>\n",
       "    <tr>\n",
       "      <th>59295</th>\n",
       "      <td>Zambia</td>\n",
       "      <td>2100</td>\n",
       "      <td>81.5M</td>\n",
       "    </tr>\n",
       "    <tr>\n",
       "      <th>59296</th>\n",
       "      <td>Zimbabwe</td>\n",
       "      <td>2100</td>\n",
       "      <td>31M</td>\n",
       "    </tr>\n",
       "  </tbody>\n",
       "</table>\n",
       "<p>59297 rows × 3 columns</p>\n",
       "</div>"
      ],
      "text/plain": [
       "                    country  year population\n",
       "0               Afghanistan  1800      3.28M\n",
       "1                    Angola  1800      1.57M\n",
       "2                   Albania  1800       400k\n",
       "3                   Andorra  1800       2650\n",
       "4      United Arab Emirates  1800      40.2k\n",
       "...                     ...   ...        ...\n",
       "59292                 Samoa  2100       310k\n",
       "59293                 Yemen  2100      53.2M\n",
       "59294          South Africa  2100      79.2M\n",
       "59295                Zambia  2100      81.5M\n",
       "59296              Zimbabwe  2100        31M\n",
       "\n",
       "[59297 rows x 3 columns]"
      ]
     },
     "execution_count": 7,
     "metadata": {},
     "output_type": "execute_result"
    }
   ],
   "source": [
    "df1 = df.melt(id_vars=['country'], var_name='year', value_name='population')\n",
    "df1"
   ]
  },
  {
   "cell_type": "code",
   "execution_count": 8,
   "metadata": {},
   "outputs": [],
   "source": [
    "df1.to_csv('population_total.csv')"
   ]
  },
  {
   "cell_type": "code",
   "execution_count": 9,
   "metadata": {},
   "outputs": [
    {
     "name": "stdout",
     "output_type": "stream",
     "text": [
      "<class 'pandas.core.frame.DataFrame'>\n",
      "RangeIndex: 59297 entries, 0 to 59296\n",
      "Data columns (total 3 columns):\n",
      " #   Column      Non-Null Count  Dtype \n",
      "---  ------      --------------  ----- \n",
      " 0   country     59297 non-null  object\n",
      " 1   year        59297 non-null  object\n",
      " 2   population  59297 non-null  object\n",
      "dtypes: object(3)\n",
      "memory usage: 1.4+ MB\n"
     ]
    }
   ],
   "source": [
    "df1.info()"
   ]
  },
  {
   "cell_type": "code",
   "execution_count": 10,
   "metadata": {},
   "outputs": [
    {
     "name": "stdout",
     "output_type": "stream",
     "text": [
      "<class 'pandas.core.frame.DataFrame'>\n",
      "RangeIndex: 59297 entries, 0 to 59296\n",
      "Data columns (total 3 columns):\n",
      " #   Column      Non-Null Count  Dtype \n",
      "---  ------      --------------  ----- \n",
      " 0   country     59297 non-null  object\n",
      " 1   year        59297 non-null  int64 \n",
      " 2   population  59297 non-null  object\n",
      "dtypes: int64(1), object(2)\n",
      "memory usage: 1.4+ MB\n"
     ]
    }
   ],
   "source": [
    "df1['year'] = df1['year'].astype(int)\n",
    "df1.info()"
   ]
  },
  {
   "cell_type": "code",
   "execution_count": 11,
   "metadata": {},
   "outputs": [
    {
     "data": {
      "text/html": [
       "<div>\n",
       "<style scoped>\n",
       "    .dataframe tbody tr th:only-of-type {\n",
       "        vertical-align: middle;\n",
       "    }\n",
       "\n",
       "    .dataframe tbody tr th {\n",
       "        vertical-align: top;\n",
       "    }\n",
       "\n",
       "    .dataframe thead th {\n",
       "        text-align: right;\n",
       "    }\n",
       "</style>\n",
       "<table border=\"1\" class=\"dataframe\">\n",
       "  <thead>\n",
       "    <tr style=\"text-align: right;\">\n",
       "      <th></th>\n",
       "      <th>country</th>\n",
       "      <th>year</th>\n",
       "      <th>population</th>\n",
       "    </tr>\n",
       "  </thead>\n",
       "  <tbody>\n",
       "    <tr>\n",
       "      <th>0</th>\n",
       "      <td>Afghanistan</td>\n",
       "      <td>1800</td>\n",
       "      <td>3280000.0</td>\n",
       "    </tr>\n",
       "    <tr>\n",
       "      <th>1</th>\n",
       "      <td>Angola</td>\n",
       "      <td>1800</td>\n",
       "      <td>1570000.0</td>\n",
       "    </tr>\n",
       "    <tr>\n",
       "      <th>2</th>\n",
       "      <td>Albania</td>\n",
       "      <td>1800</td>\n",
       "      <td>400000.0</td>\n",
       "    </tr>\n",
       "    <tr>\n",
       "      <th>3</th>\n",
       "      <td>Andorra</td>\n",
       "      <td>1800</td>\n",
       "      <td>2650.0</td>\n",
       "    </tr>\n",
       "    <tr>\n",
       "      <th>4</th>\n",
       "      <td>United Arab Emirates</td>\n",
       "      <td>1800</td>\n",
       "      <td>40200.0</td>\n",
       "    </tr>\n",
       "    <tr>\n",
       "      <th>...</th>\n",
       "      <td>...</td>\n",
       "      <td>...</td>\n",
       "      <td>...</td>\n",
       "    </tr>\n",
       "    <tr>\n",
       "      <th>59292</th>\n",
       "      <td>Samoa</td>\n",
       "      <td>2100</td>\n",
       "      <td>310000.0</td>\n",
       "    </tr>\n",
       "    <tr>\n",
       "      <th>59293</th>\n",
       "      <td>Yemen</td>\n",
       "      <td>2100</td>\n",
       "      <td>53200000.0</td>\n",
       "    </tr>\n",
       "    <tr>\n",
       "      <th>59294</th>\n",
       "      <td>South Africa</td>\n",
       "      <td>2100</td>\n",
       "      <td>79200000.0</td>\n",
       "    </tr>\n",
       "    <tr>\n",
       "      <th>59295</th>\n",
       "      <td>Zambia</td>\n",
       "      <td>2100</td>\n",
       "      <td>81500000.0</td>\n",
       "    </tr>\n",
       "    <tr>\n",
       "      <th>59296</th>\n",
       "      <td>Zimbabwe</td>\n",
       "      <td>2100</td>\n",
       "      <td>31000000.0</td>\n",
       "    </tr>\n",
       "  </tbody>\n",
       "</table>\n",
       "<p>59297 rows × 3 columns</p>\n",
       "</div>"
      ],
      "text/plain": [
       "                    country  year  population\n",
       "0               Afghanistan  1800   3280000.0\n",
       "1                    Angola  1800   1570000.0\n",
       "2                   Albania  1800    400000.0\n",
       "3                   Andorra  1800      2650.0\n",
       "4      United Arab Emirates  1800     40200.0\n",
       "...                     ...   ...         ...\n",
       "59292                 Samoa  2100    310000.0\n",
       "59293                 Yemen  2100  53200000.0\n",
       "59294          South Africa  2100  79200000.0\n",
       "59295                Zambia  2100  81500000.0\n",
       "59296              Zimbabwe  2100  31000000.0\n",
       "\n",
       "[59297 rows x 3 columns]"
      ]
     },
     "execution_count": 11,
     "metadata": {},
     "output_type": "execute_result"
    }
   ],
   "source": [
    "df1['population'] = df1['population'].replace({'M':'e6', 'k':'e3' , 'B':'e9'}, regex=True).astype(float)\n",
    "df1"
   ]
  },
  {
   "cell_type": "code",
   "execution_count": 12,
   "metadata": {},
   "outputs": [
    {
     "data": {
      "text/plain": [
       "year\n",
       "2100    1.086488e+10\n",
       "2098    1.086331e+10\n",
       "2097    1.085810e+10\n",
       "2099    1.085769e+10\n",
       "2096    1.085507e+10\n",
       "            ...     \n",
       "1804    9.974856e+08\n",
       "1803    9.949540e+08\n",
       "1802    9.915552e+08\n",
       "1801    9.878949e+08\n",
       "1800    9.844545e+08\n",
       "Name: population, Length: 301, dtype: float64"
      ]
     },
     "execution_count": 12,
     "metadata": {},
     "output_type": "execute_result"
    }
   ],
   "source": [
    "yearly_pop = df1.groupby('year')['population'].sum()\n",
    "yearly_pop.sort_values(ascending=False)"
   ]
  },
  {
   "cell_type": "code",
   "execution_count": 13,
   "metadata": {},
   "outputs": [
    {
     "name": "stdout",
     "output_type": "stream",
     "text": [
      "The year with the highest population :  2100\n",
      "The year with the lowest population :  1800\n"
     ]
    }
   ],
   "source": [
    "print(\"The year with the highest population : \",yearly_pop.idxmax())\n",
    "print(\"The year with the lowest population : \",yearly_pop.idxmin())"
   ]
  },
  {
   "cell_type": "code",
   "execution_count": 14,
   "metadata": {},
   "outputs": [
    {
     "data": {
      "image/png": "[encoded data removed]",
      "text/plain": [
       "<Figure size 640x480 with 1 Axes>"
      ]
     },
     "metadata": {},
     "output_type": "display_data"
    }
   ],
   "source": [
    "plt.plot(yearly_pop.index, yearly_pop.values)\n",
    "plt.xlabel('Year')\n",
    "plt.ylabel('Population')\n",
    "plt.title('World Population over the years')\n",
    "plt.grid()\n",
    "plt.show()"
   ]
  },
  {
   "cell_type": "code",
   "execution_count": 15,
   "metadata": {},
   "outputs": [
    {
     "data": {
      "text/plain": [
       "country\n",
       "China            2.406170e+11\n",
       "India            2.245620e+11\n",
       "United States    5.742322e+10\n",
       "Nigeria          4.771280e+10\n",
       "Indonesia        4.253380e+10\n",
       "                     ...     \n",
       "San Marino       5.560330e+06\n",
       "Palau            3.130030e+06\n",
       "Tuvalu           2.408400e+06\n",
       "Nauru            1.643690e+06\n",
       "Holy See         2.562510e+05\n",
       "Name: population, Length: 197, dtype: float64"
      ]
     },
     "execution_count": 15,
     "metadata": {},
     "output_type": "execute_result"
    }
   ],
   "source": [
    "country_pop = df1.groupby('country')['population'].sum()\n",
    "country_pop.sort_values(ascending=False)"
   ]
  },
  {
   "cell_type": "code",
   "execution_count": 16,
   "metadata": {},
   "outputs": [
    {
     "name": "stdout",
     "output_type": "stream",
     "text": [
      "The country with the highest population :  China  -->  240617000000.0\n",
      "The country with the Lowest population :  Holy See  -->  256251.0\n"
     ]
    }
   ],
   "source": [
    "print(\"The country with the highest population : \",country_pop.idxmax(),\" --> \",country_pop.max())\n",
    "print(\"The country with the Lowest population : \",country_pop.idxmin(),\" --> \",country_pop.min())"
   ]
  },
  {
   "cell_type": "code",
   "execution_count": 17,
   "metadata": {},
   "outputs": [
    {
     "data": {
      "text/plain": [
       "np.float64(3696196839.0)"
      ]
     },
     "execution_count": 17,
     "metadata": {},
     "output_type": "execute_result"
    }
   ],
   "source": [
    "df.columns = df.columns.astype(str)\n",
    "df['1970'] = df['1970'].replace({'M':'e6', 'k':'e3', 'B':'e9'}, regex=True).astype(float)\n",
    "df.loc[:, '1970'].sum()"
   ]
  },
  {
   "cell_type": "code",
   "execution_count": 18,
   "metadata": {},
   "outputs": [
    {
     "data": {
      "text/plain": [
       "np.float64(10480929684.0)"
      ]
     },
     "execution_count": 18,
     "metadata": {},
     "output_type": "execute_result"
    }
   ],
   "source": [
    "df['2071'] = df['2071'].replace({'M':'e6', 'k':'e3', 'B':'e9'}, regex=True).astype(float)\n",
    "df.loc[:, '2071'].sum()"
   ]
  },
  {
   "cell_type": "code",
   "execution_count": 19,
   "metadata": {},
   "outputs": [
    {
     "name": "stdout",
     "output_type": "stream",
     "text": [
      "The world population in 2024 is : 8102030403.0\n"
     ]
    }
   ],
   "source": [
    "df['2024'] = df['2024'].replace({'M':'e6', 'k':'e3', 'B':'e9'}, regex=True).astype(float)\n",
    "world_pop = df.loc[:, '2024'].sum()\n",
    "print(\"The world population in 2024 is :\",world_pop)"
   ]
  },
  {
   "cell_type": "code",
   "execution_count": 20,
   "metadata": {},
   "outputs": [
    {
     "name": "stdout",
     "output_type": "stream",
     "text": [
      "The percentage of China's population in 2024 is : 18.02017429432744 %\n"
     ]
    }
   ],
   "source": [
    "china_pop = df1[df1['country'] == 'China']\n",
    "china_pop_now = china_pop[china_pop['year']==2024]\n",
    "CPN = china_pop_now['population'].values[0]\n",
    "china_percentage = CPN/world_pop*100\n",
    "print(\"The percentage of China's population in 2024 is :\",china_percentage , \"%\")"
   ]
  },
  {
   "cell_type": "code",
   "execution_count": 21,
   "metadata": {},
   "outputs": [
    {
     "name": "stdout",
     "output_type": "stream",
     "text": [
      "The percentage of Russia's population in 2024 is : 1.789674844299643 %\n"
     ]
    }
   ],
   "source": [
    "russia_pop = df1[df1['country'] == 'Russia']\n",
    "russia_pop_now = russia_pop[russia_pop['year']==2024]\n",
    "RPN = russia_pop_now['population'].values[0]\n",
    "russia_percentage = RPN/world_pop*100\n",
    "print(\"The percentage of Russia's population in 2024 is :\",russia_percentage , \"%\")"
   ]
  },
  {
   "cell_type": "code",
   "execution_count": 22,
   "metadata": {},
   "outputs": [],
   "source": [
    "count_pop_2024 = df1[df1['year'] == 2024].groupby('country')[['population']].sum()\n",
    "count_pop_2024.sort_values(by='population', ascending=False , inplace=True)"
   ]
  },
  {
   "cell_type": "code",
   "execution_count": 23,
   "metadata": {},
   "outputs": [
    {
     "name": "stdout",
     "output_type": "stream",
     "text": [
      "The percentage of  China 's population in 2024 is : 18.02017429432744 %\n",
      "The percentage of  India 's population in 2024 is : 17.649896740334412 %\n",
      "The percentage of  United States 's population in 2024 is : 4.184136360121235 %\n",
      "The percentage of  Indonesia 's population in 2024 is : 3.50529417780068 %\n"
     ]
    }
   ],
   "source": [
    "for c in count_pop_2024.index:\n",
    "    country_pop = count_pop_2024.loc[c]\n",
    "    CPN = country_pop['population']\n",
    "    country_percentage = CPN / world_pop * 100\n",
    "    if country_percentage > 3:\n",
    "        print(\"The percentage of \", c, \"'s population in 2024 is :\", country_percentage, \"%\")"
   ]
  },
  {
   "cell_type": "code",
   "execution_count": 24,
   "metadata": {},
   "outputs": [
    {
     "data": {
      "image/png": "[encoded data removed]",
      "text/plain": [
       "<Figure size 640x480 with 1 Axes>"
      ]
     },
     "metadata": {},
     "output_type": "display_data"
    }
   ],
   "source": [
    "plt.bar(count_pop_2024.index[:6], count_pop_2024['population'][:6])\n",
    "plt.xlabel('Country')\n",
    "plt.ylabel('Population')\n",
    "plt.title('Top 6 Countries Population in 2024')\n",
    "plt.xticks(rotation=45)\n",
    "plt.grid()\n",
    "plt.show()"
   ]
  },
  {
   "cell_type": "code",
   "execution_count": 25,
   "metadata": {},
   "outputs": [],
   "source": [
    "count_pop_smallest = df1[df1['year'] == 2024].groupby('country')[['population']].sum()\n",
    "count_pop_smallest.sort_values(by='population', ascending=True , inplace=True)"
   ]
  },
  {
   "cell_type": "code",
   "execution_count": 26,
   "metadata": {},
   "outputs": [
    {
     "data": {
      "image/png": "[encoded data removed]",
      "text/plain": [
       "<Figure size 640x480 with 1 Axes>"
      ]
     },
     "metadata": {},
     "output_type": "display_data"
    }
   ],
   "source": [
    "plt.bar(count_pop_smallest.index[:6], count_pop_smallest['population'][:6])\n",
    "plt.xlabel('Country')\n",
    "plt.ylabel('Population')\n",
    "plt.title('Top 6 Countries Population in 2024')\n",
    "plt.xticks(rotation=45)\n",
    "plt.grid()\n",
    "plt.show()"
   ]
  },
  {
   "cell_type": "code",
   "execution_count": 27,
   "metadata": {},
   "outputs": [
    {
     "data": {
      "text/plain": [
       "year\n",
       "1970    0.021051\n",
       "1968    0.021007\n",
       "1967    0.020971\n",
       "1969    0.020550\n",
       "1966    0.020360\n",
       "          ...   \n",
       "2097    0.000279\n",
       "2091    0.000264\n",
       "2095   -0.000086\n",
       "2099   -0.000517\n",
       "1800         NaN\n",
       "Name: population, Length: 301, dtype: float64"
      ]
     },
     "execution_count": 27,
     "metadata": {},
     "output_type": "execute_result"
    }
   ],
   "source": [
    "growth_rate = df1.groupby('year')['population'].sum().pct_change()\n",
    "growth_rate.sort_values(ascending=False)"
   ]
  },
  {
   "cell_type": "code",
   "execution_count": 28,
   "metadata": {},
   "outputs": [
    {
     "data": {
      "text/plain": [
       "Text(0, 0.5, 'Growth Rate')"
      ]
     },
     "execution_count": 28,
     "metadata": {},
     "output_type": "execute_result"
    },
    {
     "data": {
      "image/png": "[encoded data removed]",
      "text/plain": [
       "<Figure size 640x480 with 1 Axes>"
      ]
     },
     "metadata": {},
     "output_type": "display_data"
    }
   ],
   "source": [
    "plt.plot(growth_rate.index, growth_rate.values)\n",
    "plt.xlabel('Year')\n",
    "plt.ylabel('Growth Rate')"
   ]
  },
  {
   "cell_type": "code",
   "execution_count": 29,
   "metadata": {},
   "outputs": [
    {
     "name": "stdout",
     "output_type": "stream",
     "text": [
      "The highest growth rate in year : 1970\n",
      "The Lowest growth rate in year : 2099\n"
     ]
    }
   ],
   "source": [
    "print(\"The highest growth rate in year :\",growth_rate.idxmax())\n",
    "print(\"The Lowest growth rate in year :\",growth_rate.idxmin())"
   ]
  },
  {
   "cell_type": "code",
   "execution_count": 31,
   "metadata": {},
   "outputs": [
    {
     "name": "stdout",
     "output_type": "stream",
     "text": [
      "<class 'pandas.core.series.Series'>\n",
      "RangeIndex: 59297 entries, 0 to 59296\n",
      "Series name: growth_rate\n",
      "Non-Null Count  Dtype  \n",
      "--------------  -----  \n",
      "59100 non-null  float64\n",
      "dtypes: float64(1)\n",
      "memory usage: 463.4 KB\n"
     ]
    }
   ],
   "source": [
    "df1['growth_rate'].info()"
   ]
  },
  {
   "cell_type": "code",
   "execution_count": 32,
   "metadata": {},
   "outputs": [
    {
     "data": {
      "text/html": [
       "<div>\n",
       "<style scoped>\n",
       "    .dataframe tbody tr th:only-of-type {\n",
       "        vertical-align: middle;\n",
       "    }\n",
       "\n",
       "    .dataframe tbody tr th {\n",
       "        vertical-align: top;\n",
       "    }\n",
       "\n",
       "    .dataframe thead th {\n",
       "        text-align: right;\n",
       "    }\n",
       "</style>\n",
       "<table border=\"1\" class=\"dataframe\">\n",
       "  <thead>\n",
       "    <tr style=\"text-align: right;\">\n",
       "      <th></th>\n",
       "      <th>population</th>\n",
       "      <th>year</th>\n",
       "    </tr>\n",
       "    <tr>\n",
       "      <th>country</th>\n",
       "      <th></th>\n",
       "      <th></th>\n",
       "    </tr>\n",
       "  </thead>\n",
       "  <tbody>\n",
       "    <tr>\n",
       "      <th>China</th>\n",
       "      <td>2.406170e+11</td>\n",
       "      <td>586950</td>\n",
       "    </tr>\n",
       "    <tr>\n",
       "      <th>India</th>\n",
       "      <td>2.245620e+11</td>\n",
       "      <td>586950</td>\n",
       "    </tr>\n",
       "    <tr>\n",
       "      <th>United States</th>\n",
       "      <td>5.742322e+10</td>\n",
       "      <td>586950</td>\n",
       "    </tr>\n",
       "    <tr>\n",
       "      <th>Nigeria</th>\n",
       "      <td>4.771280e+10</td>\n",
       "      <td>586950</td>\n",
       "    </tr>\n",
       "    <tr>\n",
       "      <th>Indonesia</th>\n",
       "      <td>4.253380e+10</td>\n",
       "      <td>586950</td>\n",
       "    </tr>\n",
       "    <tr>\n",
       "      <th>...</th>\n",
       "      <td>...</td>\n",
       "      <td>...</td>\n",
       "    </tr>\n",
       "    <tr>\n",
       "      <th>San Marino</th>\n",
       "      <td>5.560330e+06</td>\n",
       "      <td>586950</td>\n",
       "    </tr>\n",
       "    <tr>\n",
       "      <th>Palau</th>\n",
       "      <td>3.130030e+06</td>\n",
       "      <td>586950</td>\n",
       "    </tr>\n",
       "    <tr>\n",
       "      <th>Tuvalu</th>\n",
       "      <td>2.408400e+06</td>\n",
       "      <td>586950</td>\n",
       "    </tr>\n",
       "    <tr>\n",
       "      <th>Nauru</th>\n",
       "      <td>1.643690e+06</td>\n",
       "      <td>586950</td>\n",
       "    </tr>\n",
       "    <tr>\n",
       "      <th>Holy See</th>\n",
       "      <td>2.562510e+05</td>\n",
       "      <td>586950</td>\n",
       "    </tr>\n",
       "  </tbody>\n",
       "</table>\n",
       "<p>197 rows × 2 columns</p>\n",
       "</div>"
      ],
      "text/plain": [
       "                 population    year\n",
       "country                            \n",
       "China          2.406170e+11  586950\n",
       "India          2.245620e+11  586950\n",
       "United States  5.742322e+10  586950\n",
       "Nigeria        4.771280e+10  586950\n",
       "Indonesia      4.253380e+10  586950\n",
       "...                     ...     ...\n",
       "San Marino     5.560330e+06  586950\n",
       "Palau          3.130030e+06  586950\n",
       "Tuvalu         2.408400e+06  586950\n",
       "Nauru          1.643690e+06  586950\n",
       "Holy See       2.562510e+05  586950\n",
       "\n",
       "[197 rows x 2 columns]"
      ]
     },
     "execution_count": 32,
     "metadata": {},
     "output_type": "execute_result"
    }
   ],
   "source": [
    "count_pop = df1.groupby('country')[['population','year']].sum()\n",
    "count_pop.sort_values(by='population', ascending=False)"
   ]
  },
  {
   "cell_type": "code",
   "execution_count": 33,
   "metadata": {},
   "outputs": [
    {
     "data": {
      "text/html": [
       "<div>\n",
       "<style scoped>\n",
       "    .dataframe tbody tr th:only-of-type {\n",
       "        vertical-align: middle;\n",
       "    }\n",
       "\n",
       "    .dataframe tbody tr th {\n",
       "        vertical-align: top;\n",
       "    }\n",
       "\n",
       "    .dataframe thead th {\n",
       "        text-align: right;\n",
       "    }\n",
       "</style>\n",
       "<table border=\"1\" class=\"dataframe\">\n",
       "  <thead>\n",
       "    <tr style=\"text-align: right;\">\n",
       "      <th></th>\n",
       "      <th>population</th>\n",
       "      <th>year</th>\n",
       "    </tr>\n",
       "    <tr>\n",
       "      <th>country</th>\n",
       "      <th></th>\n",
       "      <th></th>\n",
       "    </tr>\n",
       "  </thead>\n",
       "  <tbody>\n",
       "    <tr>\n",
       "      <th>India</th>\n",
       "      <td>1.650000e+09</td>\n",
       "      <td>2100</td>\n",
       "    </tr>\n",
       "    <tr>\n",
       "      <th>China</th>\n",
       "      <td>1.460000e+09</td>\n",
       "      <td>2100</td>\n",
       "    </tr>\n",
       "    <tr>\n",
       "      <th>Nigeria</th>\n",
       "      <td>7.330000e+08</td>\n",
       "      <td>2100</td>\n",
       "    </tr>\n",
       "    <tr>\n",
       "      <th>United States</th>\n",
       "      <td>4.340000e+08</td>\n",
       "      <td>2100</td>\n",
       "    </tr>\n",
       "    <tr>\n",
       "      <th>Pakistan</th>\n",
       "      <td>4.050000e+08</td>\n",
       "      <td>2100</td>\n",
       "    </tr>\n",
       "    <tr>\n",
       "      <th>...</th>\n",
       "      <td>...</td>\n",
       "      <td>...</td>\n",
       "    </tr>\n",
       "    <tr>\n",
       "      <th>San Marino</th>\n",
       "      <td>3.440000e+04</td>\n",
       "      <td>2100</td>\n",
       "    </tr>\n",
       "    <tr>\n",
       "      <th>Tuvalu</th>\n",
       "      <td>2.000000e+04</td>\n",
       "      <td>2100</td>\n",
       "    </tr>\n",
       "    <tr>\n",
       "      <th>Palau</th>\n",
       "      <td>1.990000e+04</td>\n",
       "      <td>2100</td>\n",
       "    </tr>\n",
       "    <tr>\n",
       "      <th>Nauru</th>\n",
       "      <td>1.100000e+04</td>\n",
       "      <td>2100</td>\n",
       "    </tr>\n",
       "    <tr>\n",
       "      <th>Holy See</th>\n",
       "      <td>9.120000e+02</td>\n",
       "      <td>2100</td>\n",
       "    </tr>\n",
       "  </tbody>\n",
       "</table>\n",
       "<p>197 rows × 2 columns</p>\n",
       "</div>"
      ],
      "text/plain": [
       "                 population  year\n",
       "country                          \n",
       "India          1.650000e+09  2100\n",
       "China          1.460000e+09  2100\n",
       "Nigeria        7.330000e+08  2100\n",
       "United States  4.340000e+08  2100\n",
       "Pakistan       4.050000e+08  2100\n",
       "...                     ...   ...\n",
       "San Marino     3.440000e+04  2100\n",
       "Tuvalu         2.000000e+04  2100\n",
       "Palau          1.990000e+04  2100\n",
       "Nauru          1.100000e+04  2100\n",
       "Holy See       9.120000e+02  2100\n",
       "\n",
       "[197 rows x 2 columns]"
      ]
     },
     "execution_count": 33,
     "metadata": {},
     "output_type": "execute_result"
    }
   ],
   "source": [
    "count_pop_max = df1.groupby('country')[['population','year']].max()\n",
    "count_pop_max.sort_values(by='population', ascending=False)"
   ]
  },
  {
   "cell_type": "code",
   "execution_count": 34,
   "metadata": {},
   "outputs": [
    {
     "data": {
      "text/html": [
       "<div>\n",
       "<style scoped>\n",
       "    .dataframe tbody tr th:only-of-type {\n",
       "        vertical-align: middle;\n",
       "    }\n",
       "\n",
       "    .dataframe tbody tr th {\n",
       "        vertical-align: top;\n",
       "    }\n",
       "\n",
       "    .dataframe thead th {\n",
       "        text-align: right;\n",
       "    }\n",
       "</style>\n",
       "<table border=\"1\" class=\"dataframe\">\n",
       "  <thead>\n",
       "    <tr style=\"text-align: right;\">\n",
       "      <th></th>\n",
       "      <th>population</th>\n",
       "      <th>year</th>\n",
       "    </tr>\n",
       "    <tr>\n",
       "      <th>country</th>\n",
       "      <th></th>\n",
       "      <th></th>\n",
       "    </tr>\n",
       "  </thead>\n",
       "  <tbody>\n",
       "    <tr>\n",
       "      <th>China</th>\n",
       "      <td>330000000.0</td>\n",
       "      <td>1800</td>\n",
       "    </tr>\n",
       "    <tr>\n",
       "      <th>India</th>\n",
       "      <td>201000000.0</td>\n",
       "      <td>1800</td>\n",
       "    </tr>\n",
       "    <tr>\n",
       "      <th>Russia</th>\n",
       "      <td>31300000.0</td>\n",
       "      <td>1800</td>\n",
       "    </tr>\n",
       "    <tr>\n",
       "      <th>France</th>\n",
       "      <td>29000000.0</td>\n",
       "      <td>1800</td>\n",
       "    </tr>\n",
       "    <tr>\n",
       "      <th>Japan</th>\n",
       "      <td>28000000.0</td>\n",
       "      <td>1800</td>\n",
       "    </tr>\n",
       "    <tr>\n",
       "      <th>...</th>\n",
       "      <td>...</td>\n",
       "      <td>...</td>\n",
       "    </tr>\n",
       "    <tr>\n",
       "      <th>Andorra</th>\n",
       "      <td>2650.0</td>\n",
       "      <td>1800</td>\n",
       "    </tr>\n",
       "    <tr>\n",
       "      <th>Tuvalu</th>\n",
       "      <td>2500.0</td>\n",
       "      <td>1800</td>\n",
       "    </tr>\n",
       "    <tr>\n",
       "      <th>Brunei</th>\n",
       "      <td>2260.0</td>\n",
       "      <td>1800</td>\n",
       "    </tr>\n",
       "    <tr>\n",
       "      <th>Nauru</th>\n",
       "      <td>1830.0</td>\n",
       "      <td>1800</td>\n",
       "    </tr>\n",
       "    <tr>\n",
       "      <th>Holy See</th>\n",
       "      <td>645.0</td>\n",
       "      <td>1800</td>\n",
       "    </tr>\n",
       "  </tbody>\n",
       "</table>\n",
       "<p>197 rows × 2 columns</p>\n",
       "</div>"
      ],
      "text/plain": [
       "           population  year\n",
       "country                    \n",
       "China     330000000.0  1800\n",
       "India     201000000.0  1800\n",
       "Russia     31300000.0  1800\n",
       "France     29000000.0  1800\n",
       "Japan      28000000.0  1800\n",
       "...               ...   ...\n",
       "Andorra        2650.0  1800\n",
       "Tuvalu         2500.0  1800\n",
       "Brunei         2260.0  1800\n",
       "Nauru          1830.0  1800\n",
       "Holy See        645.0  1800\n",
       "\n",
       "[197 rows x 2 columns]"
      ]
     },
     "execution_count": 34,
     "metadata": {},
     "output_type": "execute_result"
    }
   ],
   "source": [
    "count_pop_min = df1.groupby('country')[['population','year']].min()\n",
    "count_pop_min.sort_values(by='population', ascending=False)"
   ]
  },
  {
   "cell_type": "code",
   "execution_count": 35,
   "metadata": {},
   "outputs": [
    {
     "data": {
      "text/plain": [
       "country\n",
       "Hong Kong, China        2.023131\n",
       "United Arab Emirates    1.946581\n",
       "Qatar                   1.916199\n",
       "Brunei                  1.811256\n",
       "Singapore               1.806333\n",
       "                          ...   \n",
       "Ireland                 0.362044\n",
       "Slovak Republic         0.312702\n",
       "France                  0.282996\n",
       "Czech Republic          0.236124\n",
       "Holy See                0.115530\n",
       "Length: 197, dtype: float64"
      ]
     },
     "execution_count": 35,
     "metadata": {},
     "output_type": "execute_result"
    }
   ],
   "source": [
    "gr = ((count_pop_max['population'] / count_pop_min['population']) ** (1 / (count_pop_max['year'] - count_pop_min['year'])) - 1) * 100\n",
    "gr.sort_values(ascending=False)\n"
   ]
  },
  {
   "cell_type": "code",
   "execution_count": 36,
   "metadata": {},
   "outputs": [
    {
     "name": "stdout",
     "output_type": "stream",
     "text": [
      "Country with Highest growth rate over the years: Hong Kong, China\n",
      "Country with lowest growth rate over the years : Holy See\n",
      "maximum growth rate is : 2.0231311212317804\n",
      "minimum growth rate is : 0.11552990887002679\n"
     ]
    }
   ],
   "source": [
    "print(\"Country with Highest growth rate over the years:\",gr.idxmax())\n",
    "print(\"Country with lowest growth rate over the years :\",gr.idxmin())\n",
    "print(\"maximum growth rate is :\",gr.max())\n",
    "print(\"minimum growth rate is :\",gr.min())"
   ]
  },
  {
   "cell_type": "code",
   "execution_count": 47,
   "metadata": {},
   "outputs": [
    {
     "data": {
      "image/png": "[encoded data removed]",
      "text/plain": [
       "<Figure size 640x480 with 1 Axes>"
      ]
     },
     "metadata": {},
     "output_type": "display_data"
    }
   ],
   "source": [
    "\n",
    "sorted_indices = np.argsort(gr.values)[::-1][:6]\n",
    "plt.bar(gr.index[sorted_indices], np.sort(gr.values)[::-1][:6])\n",
    "plt.xlabel('Country')\n",
    "plt.ylabel('Growth Rate')\n",
    "plt.title('Top 6 Countries Growth Rate')\n",
    "plt.xticks(rotation=45)\n",
    "plt.grid()\n",
    "plt.show()"
   ]
  },
  {
   "cell_type": "code",
   "execution_count": 50,
   "metadata": {},
   "outputs": [
    {
     "data": {
      "image/png": "[encoded data removed]",
      "text/plain": [
       "<Figure size 640x480 with 1 Axes>"
      ]
     },
     "metadata": {},
     "output_type": "display_data"
    }
   ],
   "source": [
    "\n",
    "sorted_indices_smallest = np.argsort(gr.values)[:6]\n",
    "plt.bar(gr.index[sorted_indices_smallest], np.sort(gr.values)[:6])\n",
    "plt.xlabel('Country')\n",
    "plt.ylabel('Growth Rate')\n",
    "plt.title('Smallest 6 Countries Growth Rate')\n",
    "plt.xticks(rotation=45)\n",
    "plt.grid()\n",
    "plt.show()"
   ]
  },
  {
   "cell_type": "code",
   "execution_count": 37,
   "metadata": {},
   "outputs": [
    {
     "name": "stdout",
     "output_type": "stream",
     "text": [
      "The year with the highest growth rate is : 2071\n",
      "The year with the lowest growth rate is : 1800\n"
     ]
    }
   ],
   "source": [
    "year_gr_max = df1.groupby('year')['population'].max()\n",
    "year_gr_min = df1.groupby('year')['population'].min()\n",
    "year_gr = ((year_gr_max / year_gr_min) ** (1 / (year_gr_max.index.max() - year_gr_min.index.min())) - 1) * 100\n",
    "year_gr.sort_values(ascending=False)\n",
    "print(\"The year with the highest growth rate is :\",year_gr.idxmax())\n",
    "print(\"The year with the lowest growth rate is :\",year_gr.idxmin())"
   ]
  },
  {
   "cell_type": "code",
   "execution_count": 38,
   "metadata": {},
   "outputs": [
    {
     "data": {
      "image/png": "[encoded data removed]",
      "text/plain": [
       "<Figure size 640x480 with 1 Axes>"
      ]
     },
     "metadata": {},
     "output_type": "display_data"
    }
   ],
   "source": [
    "plt.plot(year_gr.index, year_gr.values)\n",
    "plt.xlabel('Year')\n",
    "plt.ylabel('Growth Rate')\n",
    "plt.title('World Population Growth Rate over the years')\n",
    "plt.grid()"
   ]
  }
 ],
 "metadata": {
  "kernelspec": {
   "display_name": "Python 3",
   "language": "python",
   "name": "python3"
  },
  "language_info": {
   "codemirror_mode": {
    "name": "ipython",
    "version": 3
   },
   "file_extension": ".py",
   "mimetype": "text/x-python",
   "name": "python",
   "nbconvert_exporter": "python",
   "pygments_lexer": "ipython3",
   "version": "3.11.9"
  }
 },
 "nbformat": 4,
 "nbformat_minor": 2
}
